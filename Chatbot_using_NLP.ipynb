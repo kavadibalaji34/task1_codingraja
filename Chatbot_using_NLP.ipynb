{
  "nbformat": 4,
  "nbformat_minor": 0,
  "metadata": {
    "colab": {
      "provenance": []
    },
    "kernelspec": {
      "name": "python3",
      "display_name": "Python 3"
    },
    "language_info": {
      "name": "python"
    }
  },
  "cells": [
    {
      "cell_type": "code",
      "execution_count": 1,
      "metadata": {
        "id": "LlSRTW2mwv4l"
      },
      "outputs": [],
      "source": [
        "# https://medium.com/analytics-vidhya/building-a-simple-chatbot-in-python-using-nltk-7c8c8215ac6e\n",
        "\n",
        "import nltk\n",
        "import numpy as np\n",
        "import random\n",
        "import string"
      ]
    },
    {
      "cell_type": "code",
      "source": [
        "FILE_PATH = '../content/chatbot.txt'\n",
        "\n",
        "f = open(FILE_PATH, 'r', errors='ignore')\n",
        "raw = f.read()\n",
        "raw = raw.lower()"
      ],
      "metadata": {
        "id": "kBkQxBhexKqF"
      },
      "execution_count": 4,
      "outputs": []
    },
    {
      "cell_type": "code",
      "source": [
        "nltk.download('punkt')\n",
        "nltk.download('wordnet')\n",
        "\n",
        "sentence_tokens = nltk.sent_tokenize(raw)\n",
        "word_tokens = nltk.word_tokenize(raw)\n",
        "\n",
        "[sentence_tokens[:2], word_tokens[:2]]"
      ],
      "metadata": {
        "colab": {
          "base_uri": "https://localhost:8080/"
        },
        "id": "_q4KAaeexP-Z",
        "outputId": "05a75393-8f20-4bdc-ac9b-18de06329c4c"
      },
      "execution_count": 5,
      "outputs": [
        {
          "output_type": "stream",
          "name": "stderr",
          "text": [
            "[nltk_data] Downloading package punkt to /root/nltk_data...\n",
            "[nltk_data]   Package punkt is already up-to-date!\n",
            "[nltk_data] Downloading package wordnet to /root/nltk_data...\n",
            "[nltk_data]   Package wordnet is already up-to-date!\n"
          ]
        },
        {
          "output_type": "execute_result",
          "data": {
            "text/plain": [
              "[['a chatbot (also known as a talkbot, chatterbot, bot, im bot, interactive agent, or artificial conversational entity) is a computer program or an artificial intelligence which conducts a conversation via auditory or textual methods.',\n",
              "  'such programs are often designed to convincingly simulate how a human would behave as a conversational partner, thereby passing the turing test.'],\n",
              " ['a', 'chatbot']]"
            ]
          },
          "metadata": {},
          "execution_count": 5
        }
      ]
    },
    {
      "cell_type": "code",
      "source": [
        "[['a chatbot (also known as a talkbot, chatterbot, bot, im bot, interactive agent, or artificial conversational entity) is a computer program or an artificial intelligence which conducts a conversation via auditory or textual methods.',\n",
        "  'such programs are often designed to convincingly simulate how a human would behave as a conversational partner, thereby passing the turing test.'],\n",
        " ['a', 'chatbot']]"
      ],
      "metadata": {
        "colab": {
          "base_uri": "https://localhost:8080/"
        },
        "id": "IDzqBnulyJhP",
        "outputId": "201de438-86eb-45d5-b0c2-683592c2776e"
      },
      "execution_count": 6,
      "outputs": [
        {
          "output_type": "execute_result",
          "data": {
            "text/plain": [
              "[['a chatbot (also known as a talkbot, chatterbot, bot, im bot, interactive agent, or artificial conversational entity) is a computer program or an artificial intelligence which conducts a conversation via auditory or textual methods.',\n",
              "  'such programs are often designed to convincingly simulate how a human would behave as a conversational partner, thereby passing the turing test.'],\n",
              " ['a', 'chatbot']]"
            ]
          },
          "metadata": {},
          "execution_count": 6
        }
      ]
    },
    {
      "cell_type": "code",
      "source": [
        "lemmer = nltk.stem.WordNetLemmatizer()\n",
        "\n",
        "remove_punct_dict = dict((ord(punct), None) for punct in string.punctuation)\n",
        "\n",
        "def lem_tokens(tokens):\n",
        "    return [lemmer.lemmatize(token) for token in tokens]\n",
        "\n",
        "def lem_normalize(text):\n",
        "    return lem_tokens(nltk.word_tokenize(text.lower().translate(remove_punct_dict)))"
      ],
      "metadata": {
        "id": "zFLf0jnpyL_k"
      },
      "execution_count": 7,
      "outputs": []
    },
    {
      "cell_type": "code",
      "source": [
        "GREETING_INPUTS = ('hello', 'hi', 'greetings', 'sup', 'what\\'s up', 'hey',)\n",
        "GREETING_RESPONSES = ['hi', 'hey', '*nods*', 'hi there', 'hello', 'I am glad! You are talking to me']\n",
        "\n",
        "def greeting(sentence):\n",
        "    for word in sentence.split():\n",
        "        if word.lower() in GREETING_INPUTS:\n",
        "            return random.choice(GREETING_RESPONSES)"
      ],
      "metadata": {
        "id": "M_ZRWlNAyOVx"
      },
      "execution_count": 8,
      "outputs": []
    },
    {
      "cell_type": "code",
      "source": [
        "from sklearn.feature_extraction.text import TfidfVectorizer\n",
        "from sklearn.metrics.pairwise import cosine_similarity\n",
        "\n",
        "\n",
        "def response(user_response):\n",
        "    robo_response = ''\n",
        "    sentence_tokens.append(user_response)\n",
        "\n",
        "    vectorizer = TfidfVectorizer(tokenizer=lem_normalize, stop_words='english')\n",
        "    tfidf = vectorizer.fit_transform(sentence_tokens)\n",
        "\n",
        "    values = cosine_similarity(tfidf[-1], tfidf)\n",
        "    idx = values.argsort()[0][-2]\n",
        "    flat = values.flatten()\n",
        "    flat.sort()\n",
        "    req_tfidf = flat[-2]\n",
        "\n",
        "    if req_tfidf is 0:\n",
        "        robo_response = '{} Sorry, I don\\'t understand you'.format(robo_response)\n",
        "    else:\n",
        "        robo_response = robo_response + sentence_tokens[idx]\n",
        "    return robo_response\n",
        ""
      ],
      "metadata": {
        "colab": {
          "base_uri": "https://localhost:8080/"
        },
        "id": "7TCXr2ofzQ6E",
        "outputId": "b8bee8e9-44ef-4ca9-b916-27bd04c0dca1"
      },
      "execution_count": 13,
      "outputs": [
        {
          "output_type": "stream",
          "name": "stderr",
          "text": [
            "<>:18: SyntaxWarning: \"is\" with a literal. Did you mean \"==\"?\n",
            "<>:18: SyntaxWarning: \"is\" with a literal. Did you mean \"==\"?\n",
            "<ipython-input-13-60746c0ea7f9>:18: SyntaxWarning: \"is\" with a literal. Did you mean \"==\"?\n",
            "  if req_tfidf is 0:\n"
          ]
        }
      ]
    },
    {
      "cell_type": "code",
      "source": [
        "flag = True\n",
        "print('BOT: My name is Robo, I will answer your questions about chatbots. If you want to exit, type Bye')\n",
        "\n",
        "interactions = [\n",
        "    'hi',\n",
        "    'what is chatbot?',\n",
        "    'describe its design, please',\n",
        "    'what about alan turing?',\n",
        "    'and facebook?',\n",
        "    'sounds awesome',\n",
        "    'bye',\n",
        "]\n",
        "\n",
        "while flag:\n",
        "    user_response = interactions.pop(0)\n",
        "    print('USER: {}'.format(user_response))\n",
        "    if user_response is not 'bye':\n",
        "        if user_response is 'thanks' or user_response is 'thank you':\n",
        "            flag = False\n",
        "            print('BOT: You are welcome...')\n",
        "        else:\n",
        "            if greeting(user_response) is not None:\n",
        "                print('ROBO: {}'.format(greeting(user_response)))\n",
        "            else:\n",
        "                print('ROBO: ', end='')\n",
        "                print(response(user_response))\n",
        "                sentence_tokens.remove(user_response)\n",
        "    else:\n",
        "        flag = False\n",
        "        print('BOT: bye!')\n"
      ],
      "metadata": {
        "colab": {
          "base_uri": "https://localhost:8080/"
        },
        "id": "3E7bmI1XzZxO",
        "outputId": "e19a1eee-9d52-4aad-dce3-b6ff7d044400"
      },
      "execution_count": 14,
      "outputs": [
        {
          "output_type": "stream",
          "name": "stderr",
          "text": [
            "<>:17: SyntaxWarning: \"is not\" with a literal. Did you mean \"!=\"?\n",
            "<>:18: SyntaxWarning: \"is\" with a literal. Did you mean \"==\"?\n",
            "<>:18: SyntaxWarning: \"is\" with a literal. Did you mean \"==\"?\n",
            "<>:17: SyntaxWarning: \"is not\" with a literal. Did you mean \"!=\"?\n",
            "<>:18: SyntaxWarning: \"is\" with a literal. Did you mean \"==\"?\n",
            "<>:18: SyntaxWarning: \"is\" with a literal. Did you mean \"==\"?\n",
            "<ipython-input-14-6f99705d46a4>:17: SyntaxWarning: \"is not\" with a literal. Did you mean \"!=\"?\n",
            "  if user_response is not 'bye':\n",
            "<ipython-input-14-6f99705d46a4>:18: SyntaxWarning: \"is\" with a literal. Did you mean \"==\"?\n",
            "  if user_response is 'thanks' or user_response is 'thank you':\n",
            "<ipython-input-14-6f99705d46a4>:18: SyntaxWarning: \"is\" with a literal. Did you mean \"==\"?\n",
            "  if user_response is 'thanks' or user_response is 'thank you':\n"
          ]
        },
        {
          "output_type": "stream",
          "name": "stdout",
          "text": [
            "BOT: My name is Robo, I will answer your questions about chatbots. If you want to exit, type Bye\n",
            "USER: hi\n",
            "ROBO: hello\n",
            "USER: what is chatbot?\n",
            "ROBO: design\n",
            "the chatbot design is the process that defines the interaction between the user and the chatbot.the chatbot designer will define the chatbot personality, the questions that will be asked to the users, and the overall interaction.it can be viewed as a subset of the conversational design.\n",
            "USER: describe its design, please\n",
            "ROBO: design\n",
            "the chatbot design is the process that defines the interaction between the user and the chatbot.the chatbot designer will define the chatbot personality, the questions that will be asked to the users, and the overall interaction.it can be viewed as a subset of the conversational design.\n",
            "USER: what about alan turing?\n",
            "ROBO: background\n",
            "in 1950, alan turing's famous article \"computing machinery and intelligence\" was published, which proposed what is now called the turing test as a criterion of intelligence.\n",
            "USER: and facebook?\n",
            "ROBO: in 2016, facebook messenger allowed developers to place chatbots on their platform.\n",
            "USER: sounds awesome\n",
            "ROBO: for example, a.l.i.c.e.\n",
            "USER: bye\n",
            "BOT: bye!\n"
          ]
        }
      ]
    },
    {
      "cell_type": "code",
      "source": [],
      "metadata": {
        "id": "1lTlb15HzsD7"
      },
      "execution_count": null,
      "outputs": []
    }
  ]
}